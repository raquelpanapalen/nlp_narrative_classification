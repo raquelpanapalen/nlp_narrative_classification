{
 "cells": [
  {
   "cell_type": "markdown",
   "metadata": {},
   "source": [
    "**Disclaimer:** This russian dataset is heavily biased, containing one-sided propaganda narratives such as discrediting Ukraine, praising Russia, and amplifying war-related fears. It reflects a specific viewpoint and lacks balanced different perspectives, which may affect the fairness and generalizability of any models trained on it."
   ]
  },
  {
   "cell_type": "markdown",
   "metadata": {},
   "source": [
    "# Quantitative analysis "
   ]
  },
  {
   "cell_type": "markdown",
   "metadata": {},
   "source": [
    "The classification report demonstrates an uneven performance of the model across categories. While categories like \"URW: Discrediting Ukraine\" and \"URW: Praise of Russia\" achieved moderate F1 scores (0.77 and 0.58, respectively), several other categories had zero scores across precision, recall, and F1, reflecting significant challenges in identifying those classes. The overall weighted F1 score is 0.43, indicating moderate success, but the low accuracy of 0.037 suggests many predictions deviate from true labels. This highlights the need for improved data balance and refined training strategies for underrepresented classes."
   ]
  },
  {
   "cell_type": "markdown",
   "metadata": {},
   "source": [
    "| Metric       | Micro Avg | Macro Avg | Weighted Avg | Samples Avg |\n",
    "|--------------|-----------|-----------|--------------|-------------|\n",
    "| Precision    | 0.45      | 0.08      | 0.38         | 0.46        |\n",
    "| Recall       | 0.56      | 0.12      | 0.56         | 0.63        |\n",
    "| F1-Score     | 0.50      | 0.09      | 0.43         | 0.51        |\n",
    "| Accuracy     | -         | -         | -            | 3.7%        |"
   ]
  },
  {
   "cell_type": "markdown",
   "metadata": {},
   "source": [
    "# Qualitative analysis "
   ]
  },
  {
   "cell_type": "markdown",
   "metadata": {},
   "source": [
    "\n",
    "### **1. Text: RU-URW-1001.txt**\n",
    "\n",
    "#### Summary:\n",
    "The text highlights a surge in domestic tourism within Russia, citing a significant increase in the number of trips and overall spending on travel in 2024. It describes statistics about average spending, popular destinations, and travel preferences of Russian men and women.\n",
    "\n",
    "#### True Labels:\n",
    "\n",
    "- URW: Praise of Russia\n",
    "- URW: Praise of Russia: Russia is a guarantor of peace and prosperity\n",
    "\n",
    "#### Model's Predicted Labels:\n",
    "\n",
    "- URW: Discrediting Ukraine\n",
    "- URW: Praise of Russia\n",
    "- URW: Praise of Russia: Praise of Russian military might\n",
    "\n",
    "#### **Qualitative Observations:**\n",
    "\n",
    "1. **Matching Labels:**\n",
    "   - The true label **URW: Praise of Russia** aligns well with the content, which celebrates domestic tourism growth as a positive development.\n",
    "   - The model correctly identified **URW: Praise of Russia**, reinforcing the text's focus on highlighting Russian achievements in tourism.\n",
    "\n",
    "2. **Mismatch with True Labels:**\n",
    "   - The model additionally predicted **URW: Praise of Russia: Praise of Russian military might**, which is unrelated to the content, indicating a misclassification.\n",
    "   - The inclusion of **URW: Discrediting Ukraine** shows bias in associating unrelated topics, likely influenced by patterns in the training data.\n"
   ]
  },
  {
   "cell_type": "markdown",
   "metadata": {},
   "source": [
    "### **2. Text: RU-URW-1025.txt**\n",
    "\n",
    "#### Summary:\n",
    "The text criticizes the Ukrainian military for poor preparedness against airstrikes, as observed by a Finnish mercenary. Specific examples of mismanagement, such as poorly located bases and ineffective air defense systems, are discussed.\n",
    "\n",
    "#### True Labels:\n",
    "\n",
    "- URW: Discrediting Ukraine\n",
    "- URW: Discrediting Ukraine: Discrediting Ukrainian military\n",
    "\n",
    "#### Model's Predicted Labels:\n",
    "\n",
    "- URW: Discrediting Ukraine\n",
    "- URW: Praise of Russia\n",
    "- URW: Discrediting Ukraine: Discrediting Ukrainian military\n",
    "- URW: Praise of Russia: Praise of Russian military might\n",
    "\n",
    "\n",
    "#### **Qualitative Observations:**\n",
    "\n",
    "1. **Matching Labels:**\n",
    "   - The true label **URW: Discrediting Ukraine: Discrediting Ukrainian military** accurately reflects the text’s focus on criticizing Ukrainian military incompetence.\n",
    "   - The model successfully identified **URW: Discrediting Ukraine**, showing an understanding of the text’s core theme.\n",
    "\n",
    "2. **Mismatch with True Labels:**\n",
    "   - The model predicted **URW: Praise of Russia** and **URW: Praise of Russia: Praise of Russian military might**, which are irrelevant to the text. This misclassification suggests an overgeneralization, potentially due to thematic proximity between critique of Ukraine and praise of Russia in the training data.\n"
   ]
  },
  {
   "cell_type": "markdown",
   "metadata": {},
   "source": [
    "### **3. Text: RU-URW-1097.txt**\n",
    "\n",
    "#### Summary:\n",
    "The article discusses the potential role of China in resolving the Ukraine conflict, referencing statements by Finnish and Russian officials. It emphasizes diplomatic possibilities and the conditions required for peace negotiations.\n",
    "\n",
    "#### True Labels:\n",
    "\n",
    "- URW: Discrediting the West, Diplomacy\n",
    "- URW: Praise of Russia\n",
    "- URW: Discrediting the West, Diplomacy: The West is weak\n",
    "- URW: Praise of Russia: Russia is a guarantor of peace and prosperity\n",
    "\n",
    "#### Model's Predicted Labels:\n",
    "\n",
    "- URW: Blaming the war on others rather than the invader\n",
    "- URW: Discrediting Ukraine\n",
    "- URW: Discrediting the West, Diplomacy\n",
    "- URW: Praise of Russia\n",
    "- URW: Discrediting Ukraine: Discrediting Ukrainian government and officials and policies\n",
    "- URW: Discrediting Ukraine: Ukraine is a puppet of the West\n",
    "- URW: Discrediting the West, Diplomacy: Other\n",
    "\n",
    "#### **Qualitative Observations:**\n",
    "\n",
    "1. **Matching Labels:**\n",
    "   - The true label **URW: Discrediting the West, Diplomacy** aligns with the criticism of Western diplomacy's ineffectiveness in resolving the conflict.\n",
    "   - The model’s inclusion of **URW: Discrediting the West, Diplomacy** demonstrates correct identification of the text’s theme.\n",
    "\n",
    "2. **Mismatch with True Labels:**\n",
    "   - While the true label **URW: Praise of Russia** was captured, the additional prediction of **URW: Discrediting Ukraine** is incorrect, as the text does not critique Ukraine but focuses on global diplomacy.\n",
    "   - The inclusion of **URW: Blaming the war on others rather than the invader** is misplaced, as the text does not suggest shifting blame.\n",
    "\n",
    "3. **Overgeneralization:**\n",
    "   - The label URW: Discrediting the West, Diplomacy: Other may have been included due to its thematic closeness to The West is weak, but the specific nuance of this sublabel does not apply here."
   ]
  },
  {
   "cell_type": "markdown",
   "metadata": {},
   "source": [
    "# Conclusion "
   ]
  },
  {
   "cell_type": "markdown",
   "metadata": {},
   "source": [
    "The analysis highlights the model's ability to identify key themes such as Praise of Russia and Discrediting the West, Diplomacy, which are prominent in the Russian dataset. However, the model also exhibits notable issues with overgeneralization and misclassification. For instance, it incorrectly predicts labels like Blaming the war on others rather than the invader and overly applies Discrediting Ukraine sublabels where they are not contextually appropriate.\n",
    "\n",
    "This reflects both strengths in recognizing major patterns and weaknesses in handling nuanced contexts. The dataset's one-sided nature likely influences these results, highlighting the need for balanced data to improve accuracy."
   ]
  }
 ],
 "metadata": {
  "language_info": {
   "name": "python"
  }
 },
 "nbformat": 4,
 "nbformat_minor": 2
}
