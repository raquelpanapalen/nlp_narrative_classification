{
 "cells": [
  {
   "cell_type": "markdown",
   "id": "80877876-023b-47d5-ac02-34b9b213a427",
   "metadata": {},
   "source": [
    "## Load required packages"
   ]
  },
  {
   "cell_type": "code",
   "execution_count": 1,
   "id": "e0dcdca1-4c01-475a-a283-6730dc4c75ac",
   "metadata": {},
   "outputs": [
    {
     "name": "stderr",
     "output_type": "stream",
     "text": [
      "[nltk_data] Downloading package punkt to\n",
      "[nltk_data]     /Users/denisbugaenco/nltk_data...\n",
      "[nltk_data]   Package punkt is already up-to-date!\n",
      "[nltk_data] Downloading package stopwords to\n",
      "[nltk_data]     /Users/denisbugaenco/nltk_data...\n",
      "[nltk_data]   Package stopwords is already up-to-date!\n",
      "[nltk_data] Downloading package wordnet to\n",
      "[nltk_data]     /Users/denisbugaenco/nltk_data...\n",
      "[nltk_data]   Package wordnet is already up-to-date!\n"
     ]
    }
   ],
   "source": [
    "import os\n",
    "from collections import Counter\n",
    "import re\n",
    "import shutil\n",
    "import nltk\n",
    "from nltk.corpus import stopwords\n",
    "from nltk.tokenize import word_tokenize\n",
    "from collections import Counter\n",
    "nltk.download('punkt')\n",
    "nltk.download('stopwords')\n",
    "import matplotlib.pyplot as plt\n",
    "import nltk\n",
    "from nltk.corpus import stopwords\n",
    "from nltk.tokenize import word_tokenize\n",
    "from collections import Counter\n",
    "import nltk\n",
    "from nltk.corpus import stopwords\n",
    "from nltk.tokenize import word_tokenize\n",
    "from nltk.stem import WordNetLemmatizer\n",
    "import string\n",
    "nltk.download('wordnet')\n",
    "from pathlib import Path\n"
   ]
  },
  {
   "cell_type": "code",
   "execution_count": 2,
   "id": "18c8f12d-b034-408e-9109-7885c975a65c",
   "metadata": {},
   "outputs": [
    {
     "name": "stderr",
     "output_type": "stream",
     "text": [
      "[nltk_data] Downloading package wordnet to\n",
      "[nltk_data]     /Users/denisbugaenco/nltk_data...\n",
      "[nltk_data]   Package wordnet is already up-to-date!\n",
      "[nltk_data] Downloading package omw-1.4 to\n",
      "[nltk_data]     /Users/denisbugaenco/nltk_data...\n",
      "[nltk_data]   Package omw-1.4 is already up-to-date!\n"
     ]
    },
    {
     "data": {
      "text/plain": [
       "True"
      ]
     },
     "execution_count": 2,
     "metadata": {},
     "output_type": "execute_result"
    }
   ],
   "source": [
    "from nltk.stem import WordNetLemmatizer\n",
    "import nltk\n",
    "nltk.download('wordnet')\n",
    "nltk.download('omw-1.4')"
   ]
  },
  {
   "cell_type": "code",
   "execution_count": 3,
   "id": "bc2ef666-1a3c-4313-b2a2-30b6a1f4b61e",
   "metadata": {},
   "outputs": [],
   "source": [
    "#import stanza"
   ]
  },
  {
   "cell_type": "markdown",
   "id": "3b49e7a0-7a71-4cdf-96fb-29da5736aa5e",
   "metadata": {},
   "source": [
    "## Import data "
   ]
  },
  {
   "cell_type": "code",
   "execution_count": 33,
   "id": "72878a88-2b0f-4fa8-ab9b-ce914494de17",
   "metadata": {},
   "outputs": [],
   "source": [
    "import os\n",
    "\n",
    "# Path to the data \n",
    "data_dir = '/Users/denisbugaenco/nlp_narrative_classification/data/PT/translated-documents'\n",
    "\n",
    "# Read each text file and store its contents\n",
    "documents = []\n",
    "for filename in os.listdir(data_dir):\n",
    "    if filename.endswith('.txt'):\n",
    "        file_path = os.path.join(data_dir, filename)\n",
    "        with open(file_path, 'r', encoding='utf-8') as file:\n",
    "            documents.append(file.read())"
   ]
  },
  {
   "cell_type": "markdown",
   "id": "2c1d74ac-745a-4ea0-a85c-459431fdff0b",
   "metadata": {},
   "source": [
    "## Inspect data "
   ]
  },
  {
   "cell_type": "code",
   "execution_count": 34,
   "id": "1bcf2372-0d1a-4806-bee1-0300fa876e70",
   "metadata": {},
   "outputs": [
    {
     "name": "stdout",
     "output_type": "stream",
     "text": [
      "Climate activists or useful idiots?\n",
      "\n",
      "\"For the liberation of Palestine from the clutches of the Zionist state, for an end to genocide and an end to fossil fuels.\"\n",
      "\n",
      "The pinnacle of useful idiotism. Historically, young people have generally always been a mass of maneuvering for certain ideological elites. Social movements are almost always inorganic, almost always artificial, fabricated in universities and then amplified by the \"owners\" of the narratives and the holders of the dominant instruments in the communication system, in this case the media.\n",
      "\n",
      "It's no coincidence that social networks are completely attacked in every way, precisely because of this. What social networks have done is to take the monopoly of narratives away from the owners of the communication system.\n",
      "\n",
      "What is the main objective of these social movements?\n",
      "\n",
      "The main or only objective, regardless of whether the activists are aware or not - some are aware, others have no idea - is that they believe they are defending very important causes. But the main objective is the destruction of the infrastructure of Western society, or in Marxist language, \"bourgeois capitalist\" society.\n",
      "\n",
      "They use countless tools: the LGBT movement, instrumentalized to destroy the traditional family, which is the basis of any healthy and civilized society and is the basis of Western civilization. The \"climate madness\", which aims to take away people's freedoms. The end of fossil fuels, which is part of climate change, is basically aimed at destroying the energy base of the bourgeois capitalist model.\n",
      "\n",
      "On the subject of this action at the Faculty of Psychology - anti-Zionism. Zionism is a nationalist political movement. That's the problem. Communism is one of the globalist currents and is intrinsically internationalist, the Nation is to be destroyed and therefore the Zionist State of Israel is a problem (Jewish anti-nationalism).\n",
      "\n",
      "All these instruments contribute to the destruction of the pillars that support the edifice of Western civilization and the aim is to destroy them so that the way is open to the end of the market economy. This makes it easier to pave the way for communist totalitarianism, which uses new instruments than just the orthodox or original class struggle - proletariat versus bosses.\n",
      "\n",
      "The nation is the \"nemesis\" of the globalists and cultural Marxism is the new communism today, being one of the globalist movements we have at the moment, in addition to US-led liberal globalism.\n",
      "\n",
      "In short, this is useful idiocy, it's simply a copy of the inorganic social movements that are born in American universities and then imported to Portugal, with the sole aim of destroying the foundations of Western civilization and diluting nations from within.\n",
      "\n"
     ]
    }
   ],
   "source": [
    "# Load a single file to understand its structure\n",
    "with open('/Users/denisbugaenco/nlp_narrative_classification/data/PT/translated-documents/PT_01.TXT', 'r', encoding='utf-8') as file:\n",
    "    sample_text = file.read()\n",
    "    print(sample_text) \n"
   ]
  },
  {
   "cell_type": "markdown",
   "id": "af3bc6a6-a823-4a9a-895a-ddb181e10f06",
   "metadata": {},
   "source": [
    "We can oberve that the topic of the documents (CC or URW) are not inidcated in the file name as for the EN documents"
   ]
  },
  {
   "cell_type": "code",
   "execution_count": null,
   "id": "bf5b46d1-a197-4fc4-8ec7-fa347c99fc34",
   "metadata": {},
   "outputs": [],
   "source": []
  },
  {
   "cell_type": "markdown",
   "id": "8edcb5e5-a3fd-4ff1-831d-d180ebccbbba",
   "metadata": {},
   "source": [
    "We change the name of the documents adding also the topic for better intepretability "
   ]
  },
  {
   "cell_type": "markdown",
   "id": "23042d00-2282-4a11-8735-e2fe414bbe10",
   "metadata": {},
   "source": [
    "Load and parse the annotations to determine which topic each file belongs to"
   ]
  },
  {
   "cell_type": "code",
   "execution_count": 10,
   "id": "ea6736eb-8fd1-4eb4-90d0-a58366b816a9",
   "metadata": {},
   "outputs": [
    {
     "name": "stdout",
     "output_type": "stream",
     "text": [
      "{'PT_161.txt': 'CC', 'PT_13.txt': 'URW', 'PT_153.txt': 'CC', 'PT_196.txt': 'CC', 'PT_56.txt': 'CC', 'PT_21.txt': 'URW', 'PT_99.txt': 'URW', 'PT_64.txt': 'URW', 'PT_117.txt': 'CC', 'PT_72.txt': 'URW', 'PT_168.txt': 'CC', 'PT_41.txt': 'URW', 'PT_84.txt': 'URW', 'PT_125.txt': 'URW', 'PT_137.txt': 'CC', 'PT_17.txt': 'URW', 'PT_110.txt': 'URW', 'PT_79.txt': 'URW', 'PT_141.txt': 'CC', 'PT_48.txt': 'URW', 'PT_05.txt': 'URW', 'PT_184.txt': 'CC', 'PT_60.txt': 'CC', 'PT_149.txt': 'CC', 'PT_156.txt': 'CC', 'PT_181.txt': 'CC', 'PT_28.txt': 'URW', 'PT_113.txt': 'URW', 'PT_121.txt': 'URW', 'PT_37.txt': 'URW', 'PT_173.txt': 'CC', 'PT_199.txt': 'CC', 'PT_130.txt': 'URW', 'PT_92.txt': 'URW', 'PT_02.txt': 'URW', 'PT_109.txt': 'URW', 'PT_45.txt': 'URW', 'PT_88.txt': 'URW', 'PT_32.txt': 'URW', 'PT_09.txt': 'URW', 'PT_128.txt': 'URW', 'PT_188.txt': 'CC', 'PT_145.txt': 'CC', 'PT_65.txt': 'URW', 'PT_22.txt': 'URW', 'PT_136.txt': 'CC', 'PT_152.txt': 'CC', 'PT_49.txt': 'URW', 'PT_06.txt': 'URW', 'PT_170.txt': 'CC', 'PT_12.txt': 'URW', 'PT_98.txt': 'URW', 'PT_195.txt': 'CC', 'PT_55.txt': 'CC', 'PT_16.txt': 'URW', 'PT_59.txt': 'CC', 'PT_142.txt': 'CC', 'PT_185.txt': 'CC', 'PT_71.txt': 'URW', 'PT_83.txt': 'URW', 'PT_124.txt': 'URW', 'PT_167.txt': 'CC', 'PT_40.txt': 'URW', 'PT_174.txt': 'CC', 'PT_191.txt': 'CC', 'PT_27.txt': 'URW', 'PT_157.txt': 'CC', 'PT_131.txt': 'URW', 'PT_50.txt': 'URW', 'PT_33.txt': 'URW', 'PT_108.txt': 'URW', 'PT_120.txt': 'URW', 'PT_180.txt': 'CC', 'PT_76.txt': 'URW', 'PT_163.txt': 'CC', 'PT_93.txt': 'URW', 'PT_38.txt': 'URW', 'PT_129.txt': 'URW', 'PT_189.txt': 'CC', 'PT_103.txt': 'URW', 'PT_146.txt': 'CC', 'PT_01.txt': 'CC', 'PT_44.txt': 'URW', 'PT_61.txt': 'CC', 'PT_87.txt': 'URW', 'PT_119.txt': 'URW', 'PT_90.txt': 'URW', 'PT_127.txt': 'URW', 'PT_135.txt': 'CC', 'PT_186.txt': 'CC', 'PT_58.txt': 'CC', 'PT_194.txt': 'CC', 'PT_100.txt': 'CC', 'PT_15.txt': 'URW', 'PT_151.txt': 'CC', 'PT_178.txt': 'CC', 'PT_143.txt': 'CC', 'PT_46.txt': 'URW', 'PT_07.txt': 'URW', 'PT_11.txt': 'URW', 'PT_03.txt': 'URW', 'PT_155.txt': 'CC', 'PT_112.txt': 'URW', 'PT_54.txt': 'URW', 'PT_97.txt': 'CC', 'PT_198.txt': 'CC', 'PT_23.txt': 'URW', 'PT_66.txt': 'URW', 'PT_123.txt': 'URW', 'PT_70.txt': 'URW', 'PT_171.txt': 'CC', 'PT_166.txt': 'CC', 'PT_190.txt': 'CC', 'PT_43.txt': 'URW', 'PT_140.txt': 'CC', 'PT_183.txt': 'CC', 'PT_86.txt': 'CC', 'PT_77.txt': 'URW', 'PT_34.txt': 'URW', 'PT_51.txt': 'CC', 'PT_139.txt': 'CC', 'PT_104.txt': 'URW', 'PT_147.txt': 'CC', 'PT_200.txt': 'CC', 'PT_62.txt': 'URW', 'PT_132.txt': 'URW', 'PT_162.txt': 'CC', 'PT_175.txt': 'CC', 'PT_39.txt': 'URW', 'PT_26.txt': 'URW', 'PT_115.txt': 'URW', 'PT_158.txt': 'CC', 'PT_144.txt': 'CC', 'PT_187.txt': 'CC', 'PT_101.txt': 'CC', 'PT_14.txt': 'URW', 'PT_30.txt': 'URW', 'PT_169.txt': 'CC', 'PT_126.txt': 'URW', 'PT_177.txt': 'CC', 'PT_20.txt': 'URW', 'PT_134.txt': 'CC', 'PT_63.txt': 'URW', 'PT_81.txt': 'URW', 'PT_24.txt': 'URW', 'PT_29.txt': 'URW', 'PT_138.txt': 'CC', 'PT_67.txt': 'URW', 'PT_47.txt': 'URW', 'PT_04.txt': 'URW', 'PT_53.txt': 'CC', 'PT_10.txt': 'URW', 'PT_96.txt': 'URW', 'PT_111.txt': 'URW', 'PT_154.txt': 'CC', 'PT_18.txt': 'URW', 'PT_197.txt': 'CC', 'PT_35.txt': 'URW', 'PT_95.txt': 'URW', 'PT_78.txt': 'URW', 'PT_52.txt': 'CC', 'PT_19.txt': 'URW', 'PT_122.txt': 'URW', 'PT_148.txt': 'CC', 'PT_36.txt': 'URW', 'PT_105.txt': 'URW', 'PT_42.txt': 'URW', 'PT_165.txt': 'CC', 'PT_68.txt': 'URW', 'PT_85.txt': 'URW', 'PT_182.txt': 'CC', 'PT_193.txt': 'CC', 'PT_89.txt': 'URW', 'PT_176.txt': 'CC', 'PT_150.txt': 'CC', 'PT_116.txt': 'URW', 'PT_25.txt': 'URW', 'PT_80.txt': 'URW', 'PT_08.txt': 'URW', 'PT_133.txt': 'URW', 'PT_159.txt': 'CC', 'PT_91.txt': 'URW', 'PT_74.txt': 'URW', 'PT_31.txt': 'URW'}\n"
     ]
    }
   ],
   "source": [
    "annotations_path = '/Users/denisbugaenco/nlp_narrative_classification/data/PT/subtask-2-annotations.txt'\n",
    "topic_mapping = {}\n",
    "\n",
    "with open(annotations_path, 'r', encoding='utf-8') as file:\n",
    "    for line in file:\n",
    "        parts = line.strip().split('\\t')\n",
    "        file_name, topic_info = parts[0], parts[1]\n",
    "        if 'CC' in topic_info:\n",
    "            topic_mapping[file_name] = 'CC'\n",
    "        elif 'URW' in topic_info:\n",
    "            topic_mapping[file_name] = 'URW'\n",
    "\n",
    "print(topic_mapping)\n"
   ]
  },
  {
   "cell_type": "code",
   "execution_count": 35,
   "id": "c754a430-da49-410a-b506-f8d72d3addc7",
   "metadata": {},
   "outputs": [
    {
     "name": "stdout",
     "output_type": "stream",
     "text": [
      "['PT_CC_53.txt', 'PT_URW_47.txt', 'PT_URW_90.txt', 'PT_URW_84.txt', 'PT_CC_166.txt', 'PT_Unknown_172.txt', 'PT_CC_199.txt', 'PT_CC_198.txt', 'PT_CC_173.txt', 'PT_CC_167.txt', 'PT_URW_85.txt', 'PT_URW_91.txt', 'PT_URW_46.txt', 'PT_CC_52.txt', 'PT_URW_44.txt', 'PT_URW_50.txt', 'PT_URW_78.txt', 'PT_URW_87.txt', 'PT_URW_93.txt', 'PT_CC_171.txt', 'PT_CC_165.txt', 'PT_CC_159.txt', 'PT_CC_158.txt', 'PT_Unknown_164.txt', 'PT_CC_170.txt', 'PT_URW_92.txt', 'PT_CC_86.txt', 'PT_URW_79.txt', 'PT_CC_51.txt', 'PT_URW_45.txt', 'PT_Unknown_69.txt', 'PT_URW_41.txt', 'PT_CC_55.txt', 'PT_Unknown_82.txt', 'PT_URW_96.txt', 'PT_CC_148.txt', 'PT_CC_174.txt', 'PT_Unknown_160.txt', 'PT_CC_161.txt', 'PT_CC_175.txt', 'PT_CC_149.txt', 'PT_CC_97.txt', 'PT_URW_83.txt', 'PT_URW_54.txt', 'PT_URW_40.txt', 'PT_URW_68.txt', 'PT_CC_56.txt', 'PT_URW_42.txt', 'PT_URW_95.txt', 'PT_URW_81.txt', 'PT_CC_163.txt', 'PT_CC_177.txt', 'PT_CC_188.txt', 'PT_CC_189.txt', 'PT_CC_176.txt', 'PT_CC_162.txt', 'PT_CC_200.txt', 'PT_URW_80.txt', 'PT_Unknown_94.txt', 'PT_URW_43.txt', 'PT_Unknown_57.txt', 'PT_URW_30.txt', 'PT_URW_24.txt', 'PT_URW_18.txt', 'PT_URW_105.txt', 'PT_URW_111.txt', 'PT_CC_139.txt', 'PT_CC_138.txt', 'PT_URW_110.txt', 'PT_URW_104.txt', 'PT_URW_19.txt', 'PT_URW_25.txt', 'PT_URW_31.txt', 'PT_URW_27.txt', 'PT_URW_33.txt', 'PT_URW_112.txt', 'PT_Unknown_106.txt', 'PT_Unknown_107.txt', 'PT_URW_113.txt', 'PT_URW_32.txt', 'PT_URW_26.txt', 'PT_URW_22.txt', 'PT_URW_36.txt', 'PT_CC_117.txt', 'PT_URW_103.txt', 'PT_Unknown_102.txt', 'PT_URW_116.txt', 'PT_URW_37.txt', 'PT_URW_23.txt', 'PT_URW_09.txt', 'PT_URW_35.txt', 'PT_URW_21.txt', 'PT_URW_128.txt', 'PT_CC_100.txt', 'PT_Unknown_114.txt', 'PT_URW_115.txt', 'PT_CC_101.txt', 'PT_URW_129.txt', 'PT_URW_20.txt', 'PT_URW_34.txt', 'PT_URW_08.txt', 'PT_URW_11.txt', 'PT_URW_05.txt', 'PT_URW_39.txt', 'PT_URW_124.txt', 'PT_URW_130.txt', 'PT_Unknown_118.txt', 'PT_URW_119.txt', 'PT_URW_131.txt', 'PT_URW_125.txt', 'PT_URW_38.txt', 'PT_URW_04.txt', 'PT_URW_10.txt', 'PT_URW_06.txt', 'PT_URW_12.txt', 'PT_URW_133.txt', 'PT_URW_127.txt', 'PT_URW_126.txt', 'PT_URW_132.txt', 'PT_URW_13.txt', 'PT_URW_07.txt', 'PT_URW_03.txt', 'PT_URW_17.txt', 'PT_CC_136.txt', 'PT_URW_122.txt', 'PT_URW_123.txt', 'PT_CC_137.txt', 'PT_URW_16.txt', 'PT_URW_02.txt', 'PT_URW_28.txt', 'PT_URW_14.txt', 'PT_URW_109.txt', 'PT_URW_121.txt', 'PT_CC_135.txt', 'PT_CC_134.txt', 'PT_URW_120.txt', 'PT_URW_108.txt', 'PT_CC_01.txt', 'PT_URW_15.txt', 'PT_URW_29.txt', 'PT_URW_72.txt', 'PT_URW_66.txt', 'PT_URW_99.txt', 'PT_CC_147.txt', 'PT_CC_153.txt', 'PT_CC_184.txt', 'PT_CC_190.txt', 'PT_CC_191.txt', 'PT_CC_185.txt', 'PT_CC_152.txt', 'PT_CC_146.txt', 'PT_URW_98.txt', 'PT_URW_67.txt', 'PT_Unknown_73.txt', 'PT_URW_65.txt', 'PT_URW_71.txt', 'PT_CC_59.txt', 'PT_CC_150.txt', 'PT_CC_144.txt', 'PT_CC_178.txt', 'PT_CC_193.txt', 'PT_CC_187.txt', 'PT_CC_186.txt', 'PT_Unknown_192.txt', 'PT_Unknown_179.txt', 'PT_CC_145.txt', 'PT_CC_151.txt', 'PT_CC_58.txt', 'PT_URW_70.txt', 'PT_URW_64.txt', 'PT_URW_48.txt', 'PT_CC_60.txt', 'PT_URW_74.txt', 'PT_CC_169.txt', 'PT_CC_155.txt', 'PT_CC_141.txt', 'PT_CC_196.txt', 'PT_CC_182.txt', 'PT_CC_183.txt', 'PT_CC_197.txt', 'PT_CC_140.txt', 'PT_CC_154.txt', 'PT_CC_168.txt', 'PT_Unknown_75.txt', 'PT_CC_61.txt', 'PT_URW_49.txt', 'PT_URW_77.txt', 'PT_URW_63.txt', 'PT_URW_88.txt', 'PT_CC_142.txt', 'PT_CC_156.txt', 'PT_CC_181.txt', 'PT_CC_195.txt', 'PT_CC_194.txt', 'PT_CC_180.txt', 'PT_CC_157.txt', 'PT_CC_143.txt', 'PT_URW_89.txt', 'PT_URW_62.txt', 'PT_URW_76.txt']\n"
     ]
    }
   ],
   "source": [
    "\n",
    "\n",
    "# Path to the data\n",
    "data_dir\n",
    "\n",
    "# Path to the annotations\n",
    "annotations_path = '/Users/denisbugaenco/nlp_narrative_classification/data/PT/subtask-2-annotations.txt'\n",
    "\n",
    "# Load topic annotations\n",
    "topic_mapping = {}\n",
    "with open(annotations_path, 'r', encoding='utf-8') as file:\n",
    "    for line in file:\n",
    "        parts = line.strip().split('\\t')\n",
    "        file_name, topic_info = parts[0], parts[1]\n",
    "        if 'CC' in topic_info:\n",
    "            topic_mapping[file_name] = 'CC'\n",
    "        elif 'URW' in topic_info:\n",
    "            topic_mapping[file_name] = 'URW'\n",
    "\n",
    "# Read each text file and store its contents in a dictionary with new names based on topic\n",
    "documents = {}\n",
    "for filename in os.listdir(data_dir):\n",
    "    if filename.endswith('.txt'):\n",
    "        # Extract the number from the filename assuming format 'PT_XX.txt'\n",
    "        number = filename.split('_')[1].split('.txt')[0]\n",
    "        # Create new filename with format 'PT_TOPIC_XX.txt'\n",
    "        new_filename = f'PT_{topic_mapping.get(filename, \"Unknown\")}_{number}.txt'\n",
    "        file_path = os.path.join(data_dir, filename)\n",
    "        with open(file_path, 'r', encoding='utf-8') as file:\n",
    "            documents[new_filename] = file.read()\n",
    "\n",
    "# Now, documents is a dictionary where keys are filenames with topics, and values are the file contents\n",
    "print(list(documents.keys()))  # To see the new filenames\n"
   ]
  },
  {
   "cell_type": "markdown",
   "id": "35e29aa1-6376-45e9-bcb2-93f9316a6af8",
   "metadata": {},
   "source": [
    "Inspect the topcis and look for no topics assigned "
   ]
  },
  {
   "cell_type": "code",
   "execution_count": 37,
   "id": "a30dabc2-9424-43a7-9762-485b4f2fdaa7",
   "metadata": {},
   "outputs": [
    {
     "name": "stdout",
     "output_type": "stream",
     "text": [
      "Number of files with Climate Change (CC) topic: 77\n",
      "Number of files with Ukraine War (URW) topic: 107\n",
      "Number of files without a recognized topic: 16\n"
     ]
    }
   ],
   "source": [
    "# Initialize counters for each topic\n",
    "count_cc = 0\n",
    "count_ua = 0\n",
    "count_unknown = 0\n",
    "\n",
    "# Iterate through the filenames in the documents dictionary to count topics\n",
    "for filename in documents.keys():\n",
    "    topic = filename.split('_')[1]  # This assumes the filename format is 'PT_TOPIC_XX.txt'\n",
    "    if topic == 'CC':\n",
    "        count_cc += 1\n",
    "    elif topic == 'URW':\n",
    "        count_ua += 1\n",
    "    else:\n",
    "        count_unknown += 1  # Assume any filename not having 'CC' or 'UA' as topic is unknown\n",
    "\n",
    "# Print the counts\n",
    "print(\"Number of files with Climate Change (CC) topic:\", count_cc)\n",
    "print(\"Number of files with Ukraine War (URW) topic:\", count_ua)\n",
    "print(\"Number of files without a recognized topic:\", count_unknown)\n"
   ]
  },
  {
   "cell_type": "markdown",
   "id": "b44509a8-50f3-4d20-8cff-3f6a01bf6999",
   "metadata": {},
   "source": [
    "There are 16 docuemnt with unregonzied topic"
   ]
  },
  {
   "cell_type": "markdown",
   "id": "bc57942c-8800-4361-bd5d-a86d308c371c",
   "metadata": {},
   "source": [
    "We manually inpsect the 16 documents to assign a topic "
   ]
  },
  {
   "cell_type": "code",
   "execution_count": 16,
   "id": "9bb1b42d-733f-4fd9-b232-7f6370f34a44",
   "metadata": {},
   "outputs": [
    {
     "name": "stdout",
     "output_type": "stream",
     "text": [
      "Filename: PT_Unknown_172.txt\n",
      "Content: King Charles installs solar panels at Windsor Castle\n",
      "\n",
      "King Charles III of the United Kingdom, who has campaigned on environmental issues throughout his life, has installed solar panels at Windsor Castle and plans to convert the British royal family's Bentley cars to run on biofuel, palace officials said.\n",
      "\n",
      "Charles installed solar panels on part of the Windsor Castle estate known as the Lord Chamberlain's Upper Store, replacing the existing lead roof. The plan is to add more panels in the future, ...\n",
      "\n",
      "Filename: PT_Unknown_164.txt\n",
      "Content: Portugal must demand the release of Captain Paul Watson, the whale protector\n",
      "\n",
      "Captain Paul Watson has been tirelessly traveling the world's seas for decades to defend whales. The founder of Sea Shepherd does nothing more than enforce the law, since whales are supposed to be protected by international law. Whaling has been officially banned since a moratorium adopted by the International Whaling Commission (IWC) came into force in 1986. The aim of this organization is to defend life at sea throug...\n",
      "\n",
      "Filename: PT_Unknown_69.txt\n",
      "Content: Ukraine detains 30 officials suspected of allegedly embezzling almost 3 million euros in military funds\n",
      "\n",
      "The Ukrainian Prosecutor General's Office announced on Friday the arrest of 30 people during a large-scale operation across the country on suspicion of a conspiracy to embezzle military equipment worth almost 3 million euros.\n",
      "\n",
      "The suspects were detained on the assumption that they were \"organizers and participants in criminal schemes with embezzlement of budgetary funds intended to meet the n...\n",
      "\n",
      "Filename: PT_Unknown_82.txt\n",
      "Content: Lisbon court withdrew coercion measures against the historic leader of the Neo-Nazi Skinheads to go fight in Ukraine\n",
      "\n",
      "It's true, just when you thought justice couldn't surprise, it does, and it's estimated that there are victims of racism and xenophobia who wish that Mário Machado, the historic leader of the neo-Nazi skinheads and a supporter of André Ventura's Chega, wouldn't mince his words and would join the Ukrainian troops as soon as possible, preferably on the front line.\n",
      "\n",
      "Mário Machado sh...\n",
      "\n",
      "Filename: PT_Unknown_160.txt\n",
      "Content: Too much sunlight and heat reduce mental abilities: these are the results of a study\n",
      "\n",
      "Science, in several studies published in the literature, has amply demonstrated how excessive heat can lead to heat exhaustion or heat stroke, as the body's internal temperature rises dangerously.\n",
      "\n",
      "A new study shows that the scorching sun can have an impact on the brain even when the body temperature remains normal, without excessive temperatures.\n",
      "\n",
      "The research\n",
      "\n",
      "Supported by the EU-funded HEAT-SHIELD project, t...\n",
      "\n",
      "Filename: PT_Unknown_94.txt\n",
      "Content: More than 200 civilians killed in Russia's Belgorod region since invasion\n",
      "\n",
      "\"More than 1,100 peaceful residents have been injured and more than 200 people have been killed,\" Viacheslav Gladkov told the Russian news agency TASS about the casualties caused by Ukrainian drone and artillery attacks on the region.\n",
      "\n",
      "The Belgorod region shares 540 kilometers of border with Ukraine and is the entity in the Russian Federation most affected by Ukrainian military actions.\n",
      "\n",
      "According to data provided by the ...\n",
      "\n",
      "Filename: PT_Unknown_57.txt\n",
      "Content: Airbus says global fleet could reach 48,230 planes in next 20 years\n",
      "\n",
      "Company says demand will be driven by wide-body aircraft\n",
      "\n",
      "Airbus on Monday revised upwards its forecast for aircraft demand over the next 20 years, according to Reuters. According to the agency, which cites an annual report on industry trends, the global fleet could reach 48,230 planes in the next 20 years, which means it could more than double.\n",
      "\n",
      "According to the document, the world's largest aircraft manufacturer has forecast ...\n",
      "\n",
      "Filename: PT_Unknown_106.txt\n",
      "Content: Russian warships make routine visit to Cuba\n",
      "\n",
      "Havana residents saw the arrival of Russian warships for the second time in a few months, in a visit that the Cuban Revolutionary Armed Forces called routine.\n",
      "\n",
      "The Cuban authorities fired shots into the air to mark the welcome, while curious fishermen watched Havana's promenade and the ships advance across the bay. Russian residents were among the few who woke up early to see the arrival of the fleet.\n",
      "\n",
      "The patrol ship Neustrahimiy, the training ship S...\n",
      "\n",
      "Filename: PT_Unknown_107.txt\n",
      "Content: Arrest of Russian 'chef' raises fears of Russian interference in Paris 2024\n",
      "\n",
      "The recent arrest of a Russian for alleged \"destabilizing\" activities against the Paris Games illustrates organizers' last-minute concerns that Moscow may try to disrupt the event, which starts next Friday (26).\n",
      "\n",
      "The man, born in 1984, was arrested at his home in Paris this week and is suspected of \"spying for a foreign power to provoke hostilities in France\", the prosecutor's office said on Tuesday (23).\n",
      "\n",
      "Le Monde repo...\n",
      "\n",
      "Filename: PT_Unknown_102.txt\n",
      "Content: Ukrainian court orders arrest of suspect in murder of former nationalist MP\n",
      "\n",
      "A Ukrainian court this Friday (26) ordered the pre-trial detention of the suspect in last week's murder of former ultranationalist MP Irina Farion, the local press reported.\n",
      "\n",
      "Farion was an MP between 2012 and 2014 for the ultranationalist Svoboda party and was known for her passionate campaign against the use of the Russian language in Ukraine.\n",
      "\n",
      "Ukrainian state broadcaster Suspilne reported that a court in Lviv, western...\n",
      "\n",
      "Filename: PT_Unknown_114.txt\n",
      "Content: Study shows that 500,000 hectares of Caatinga can be recovered\n",
      "\n",
      "An area equivalent to three cities in São Paulo could have its native caatinga vegetation recovered from deforestation and desertification. The information is contained in a survey released this week by the Dutch foundation IDH and the research institute WRI Brasil, both linked to sustainable initiatives. According to the study, the areas are located in Cariri Ocidental, in Paraíba; Sertão do Pajeú, in Pernambuco; and Sertão do Apod...\n",
      "\n",
      "Filename: PT_Unknown_118.txt\n",
      "Content: July had the hottest day ever recorded in the global average; understand why\n",
      "\n",
      "The Earth recorded the hottest day in the entire historical series of temperature measurements this Sunday, July 21. And in the middle of summer in the northern hemisphere, many parts of the Mediterranean are facing extreme risks of forest fires.\n",
      "\n",
      "The global figure beat the previous record, set a year ago, according to provisional data from the European Union's Copernicus Climate Change Service.\n",
      "\n",
      "Average global tempera...\n",
      "\n",
      "Filename: PT_Unknown_73.txt\n",
      "Content: Ukraine has already received Western F-16s, but Zelensky says they are not enough\n",
      "\n",
      "Ukraine has received its first Western F-16 fighter jets, which have been awaited for more than two years, President Volodymyr Zelensky announced today, showing them to journalists and stressing that their number is \"insufficient\".\n",
      "\n",
      "\"We held hundreds of meetings and negotiations\" with allies to obtain these planes and strengthen the country's air defense and \"we often heard the words 'it's impossible' in response,...\n",
      "\n",
      "Filename: PT_Unknown_192.txt\n",
      "Content: Drought in Manaus: Negro River reaches 3rd lowest level in history\n",
      "\n",
      "The Negro River in Manaus reached its third lowest level this Friday, the 13th, at 13.93 meters. The level is 28 centimeters away from beating the record low recorded in 2010, when the river reached 13.63 meters.\n",
      "\n",
      "With the low level, Manaus City Hall issued a note reinforcing the ban on Ponta Negra beach, which has been closed to bathers since October 2.\n",
      "\n",
      "The decision to close the beach to bathing, for safety reasons and to prev...\n",
      "\n",
      "Filename: PT_Unknown_179.txt\n",
      "Content: Ethiopia and FAO sign program to fight climate change\n",
      "\n",
      "The Regional Livestock and Pasture Program for Climate Adaptation in the East/North Africa region will be implemented in four cross-border group areas, including Mandera and Karamoja (Ethiopia), Mara-Serengeti (Tanzania) and Bahr Al Arab (Sudan and South Sudan).\n",
      "\n",
      "Kenya, Somalia and Uganda are other countries targeted in the 47 million euro EU-funded project, of which 6.25 million euros are for Addis Ababa, the local state portfolio revealed....\n",
      "\n",
      "Filename: PT_Unknown_75.txt\n",
      "Content: The F-16s have arrived in Ukraine. But they're not enough\n",
      "\n",
      "The Ukrainian forces have been waiting for these reinforcements for more than two years. But this is \"not enough\", warned President Volodymyr Zelenskyy.\n",
      "\n",
      "Ukraine has received its first Western F-16 fighter jets, which have been awaited for more than two years, President Volodymyr Zelenskyy announced today, showing them to journalists and stressing that their number is \"insufficient\".\n",
      "\n",
      "\"We held hundreds of meetings and negotiations\" with ...\n",
      "\n"
     ]
    }
   ],
   "source": [
    "# Filter and print documents with an 'Unknown' topic for manual inspection\n",
    "unknown_documents = {filename: documents[filename] for filename in documents if 'Unknown' in filename}\n",
    "\n",
    "for filename, content in unknown_documents.items():\n",
    "    print(f\"Filename: {filename}\\nContent: {content[:500]}...\\n\")  # Print the first 500 characters to get an idea of the content\n"
   ]
  },
  {
   "cell_type": "markdown",
   "id": "c199df40-ea86-4802-8d0a-7b1d4cb44d52",
   "metadata": {},
   "source": [
    "For now we don't proceed to change them since the annotations file provided also contain them for the training part. "
   ]
  },
  {
   "cell_type": "code",
   "execution_count": null,
   "id": "eae89c36-8a33-40c0-8a79-226469c9fb90",
   "metadata": {},
   "outputs": [],
   "source": []
  },
  {
   "cell_type": "code",
   "execution_count": null,
   "id": "01b2459d-3490-4ca1-99fb-a3faece55fed",
   "metadata": {},
   "outputs": [],
   "source": []
  },
  {
   "cell_type": "markdown",
   "id": "6e06a4bb-c064-41c7-a8f6-17fb9abab487",
   "metadata": {},
   "source": [
    "### Most frequents words"
   ]
  },
  {
   "cell_type": "code",
   "execution_count": 39,
   "id": "a3f9dbe0-7016-48c9-a2b5-47dcb9d1ac96",
   "metadata": {},
   "outputs": [
    {
     "name": "stdout",
     "output_type": "stream",
     "text": [
      "Most common words for topic CC:\n",
      "climate: 255\n",
      "change: 141\n",
      "people: 91\n",
      "also: 85\n",
      "said: 82\n",
      "temperatures: 71\n",
      "world: 70\n",
      "according: 68\n",
      "years: 65\n",
      "year: 60\n",
      "heat: 59\n",
      "new: 57\n",
      "global: 56\n",
      "water: 55\n",
      "could: 53\n",
      "brazil: 53\n",
      "last: 53\n",
      "country: 50\n",
      "temperature: 50\n",
      "fires: 46\n",
      "time: 44\n",
      "extreme: 44\n",
      "one: 44\n",
      "due: 43\n",
      "environmental: 42\n",
      "group: 39\n",
      "amazon: 39\n",
      "says: 39\n",
      "government: 38\n",
      "study: 38\n",
      "\n",
      "\n",
      "Most common words for topic URW:\n",
      "ukraine: 432\n",
      "russia: 336\n",
      "russian: 326\n",
      "said: 282\n",
      "ukrainian: 249\n",
      "nato: 145\n",
      "us: 143\n",
      "president: 141\n",
      "military: 141\n",
      "kiev: 128\n",
      "war: 114\n",
      "moscow: 113\n",
      "according: 111\n",
      "also: 108\n",
      "zelensky: 100\n",
      "would: 96\n",
      "countries: 92\n",
      "security: 86\n",
      "minister: 84\n",
      "western: 84\n",
      "defense: 82\n",
      "forces: 79\n",
      "conflict: 78\n",
      "west: 77\n",
      "putin: 75\n",
      "country: 74\n",
      "foreign: 73\n",
      "european: 71\n",
      "weapons: 64\n",
      "states: 62\n",
      "\n",
      "\n",
      "Most common words for topic Unknown:\n",
      "russian: 34\n",
      "ukraine: 26\n",
      "ukrainian: 23\n",
      "said: 17\n",
      "climate: 16\n",
      "since: 15\n",
      "also: 15\n",
      "change: 14\n",
      "according: 13\n",
      "country: 12\n",
      "global: 11\n",
      "russia: 11\n",
      "million: 10\n",
      "president: 10\n",
      "military: 10\n",
      "people: 10\n",
      "forces: 10\n",
      "heat: 10\n",
      "years: 10\n",
      "aircraft: 10\n",
      "international: 9\n",
      "authorities: 9\n",
      "study: 9\n",
      "invasion: 9\n",
      "could: 9\n",
      "planes: 9\n",
      "paris: 9\n",
      "last: 8\n",
      "whales: 8\n",
      "volodymyr: 8\n",
      "\n",
      "\n"
     ]
    }
   ],
   "source": [
    "from collections import Counter\n",
    "from nltk.tokenize import word_tokenize\n",
    "from nltk.corpus import stopwords\n",
    "\n",
    "# Define stop words\n",
    "stop_words = set(stopwords.words('english'))\n",
    "\n",
    "# Initialize dictionary to store word counts by topic\n",
    "topic_word_counts = {\n",
    "    'CC': Counter(),\n",
    "    'URW': Counter(),\n",
    "    'Unknown': Counter()\n",
    "}\n",
    "\n",
    "# Process each document based on topic\n",
    "for filename, content in documents.items():\n",
    "    topic = filename.split('_')[1]  # Extract the topic from filename (e.g., 'CC', 'URW', 'Unknown')\n",
    "    tokens = word_tokenize(content.lower())\n",
    "    filtered_tokens = [word for word in tokens if word.isalpha() and word not in stop_words]\n",
    "    topic_word_counts[topic].update(filtered_tokens)\n",
    "\n",
    "# Print the most common words for each category\n",
    "for topic, counter in topic_word_counts.items():\n",
    "    print(f\"Most common words for topic {topic}:\")\n",
    "    for word, freq in counter.most_common(30):\n",
    "        print(f\"{word}: {freq}\")\n",
    "    print(\"\\n\")  # Add spacing between topics for readability\n"
   ]
  },
  {
   "cell_type": "code",
   "execution_count": null,
   "id": "daaf49bf-4b70-4e99-9285-6d0dbae3d6df",
   "metadata": {},
   "outputs": [],
   "source": []
  },
  {
   "cell_type": "code",
   "execution_count": null,
   "id": "61703cef-ae4e-4294-9235-798239097f88",
   "metadata": {},
   "outputs": [],
   "source": []
  },
  {
   "cell_type": "markdown",
   "id": "02bc3042-f69b-46e5-a88f-b668c7c193d2",
   "metadata": {},
   "source": [
    "We visualize the most rappresenitng words "
   ]
  },
  {
   "cell_type": "markdown",
   "id": "0e7bc2df-fc98-4766-b545-db5c1cfdd2be",
   "metadata": {},
   "source": [
    "We remove some  unuseful words just for a better vizualization and to see a general lanscape of each topic "
   ]
  },
  {
   "cell_type": "code",
   "execution_count": 21,
   "id": "6468bb8a-cce2-4d24-937c-9e96fdce67b9",
   "metadata": {},
   "outputs": [],
   "source": [
    "# Additional common words to exclude (domain-specific stopwords)\n",
    "additional_stopwords = {'said', 'also', 'according', 'year', 'years', 'us', 'new'}\n",
    "\n",
    "# Combine with NLTK stopwords\n",
    "all_stopwords = stop_words.union(additional_stopwords)\n",
    "\n",
    "# Initialize counters for each topic\n",
    "word_counts = {\n",
    "    'CC': Counter(),\n",
    "    'URW': Counter(),\n",
    "    'Unknown': Counter()\n",
    "}\n",
    "# Process each document and count words based on topic\n",
    "for filename, content in documents.items():\n",
    "    topic = filename.split('_')[1]  # Get the topic from the filename\n",
    "    text = content.lower()\n",
    "    tokens = word_tokenize(text)\n",
    "    # Filter out stopwords and non-alphabetic tokens\n",
    "    filtered_tokens = [word for word in tokens if word.isalpha() and word not in all_stopwords]\n",
    "    # Update the Counter for the appropriate topic\n",
    "    word_counts[topic].update(filtered_tokens)"
   ]
  },
  {
   "cell_type": "code",
   "execution_count": 42,
   "id": "1de20260-da15-4bef-997b-1739e4014b16",
   "metadata": {},
   "outputs": [
    {
     "name": "stdout",
     "output_type": "stream",
     "text": [
      "Most frequent words in CC: [('climate', 255), ('change', 141), ('people', 91), ('temperatures', 71), ('world', 70), ('heat', 59), ('global', 56), ('water', 55), ('could', 53), ('brazil', 53), ('last', 53), ('country', 50), ('temperature', 50), ('fires', 46), ('time', 44), ('extreme', 44), ('one', 44), ('due', 43), ('environmental', 42), ('group', 39), ('amazon', 39), ('says', 39), ('government', 38), ('study', 38), ('since', 38), ('record', 37), ('planet', 35), ('president', 35), ('already', 34), ('million', 34)]\n",
      "Most frequent words in URW: [('ukraine', 432), ('russia', 336), ('russian', 326), ('ukrainian', 249), ('nato', 145), ('president', 141), ('military', 141), ('kiev', 128), ('war', 114), ('moscow', 113), ('zelensky', 100), ('would', 96), ('countries', 92), ('security', 86), ('minister', 84), ('western', 84), ('defense', 82), ('forces', 79), ('conflict', 78), ('west', 77), ('putin', 75), ('country', 74), ('foreign', 73), ('european', 71), ('weapons', 64), ('states', 62), ('since', 62), ('two', 60), ('united', 58), ('government', 58)]\n",
      "Most frequent words in Unknown: [('russian', 34), ('ukraine', 26), ('ukrainian', 23), ('climate', 16), ('since', 15), ('change', 14), ('country', 12), ('global', 11), ('russia', 11), ('million', 10), ('president', 10), ('military', 10), ('people', 10), ('forces', 10), ('heat', 10), ('aircraft', 10), ('international', 9), ('authorities', 9), ('study', 9), ('invasion', 9), ('could', 9), ('planes', 9), ('paris', 9), ('last', 8), ('whales', 8), ('volodymyr', 8), ('allies', 8), ('temperature', 8), ('air', 8), ('two', 8)]\n"
     ]
    }
   ],
   "source": [
    "from nltk.corpus import stopwords\n",
    "from collections import Counter\n",
    "from nltk.tokenize import word_tokenize\n",
    "\n",
    "# Define stopwords and additional common words to exclude\n",
    "stop_words = set(stopwords.words('english'))\n",
    "additional_stopwords = {'said', 'also', 'according', 'year', 'years', 'us', 'new'}\n",
    "all_stopwords = stop_words.union(additional_stopwords)\n",
    "\n",
    "# Initialize counters for each topic\n",
    "word_counts = {\n",
    "    'CC': Counter(),\n",
    "    'URW': Counter(),\n",
    "    'Unknown': Counter()\n",
    "}\n",
    "\n",
    "# Process each document and count words based on topic\n",
    "for filename, content in documents.items():\n",
    "    topic = filename.split('_')[1]  # Get the topic from the filename\n",
    "    text = content.lower()\n",
    "    tokens = word_tokenize(text)\n",
    "    # Filter out stopwords and non-alphabetic tokens\n",
    "    filtered_tokens = [word for word in tokens if word.isalpha() and word not in all_stopwords]\n",
    "    # Update the Counter for the appropriate topic\n",
    "    word_counts[topic].update(filtered_tokens)\n",
    "\n",
    "# Display the most common words for each topic\n",
    "for topic, counter in word_counts.items():\n",
    "    print(f\"Most frequent words in {topic}:\", counter.most_common(30))\n"
   ]
  },
  {
   "cell_type": "code",
   "execution_count": 43,
   "id": "f743a87e-d683-4574-b336-27245a86d565",
   "metadata": {},
   "outputs": [
    {
     "data": {
      "image/png": "[encoded data removed]",
      "text/plain": [
       "<Figure size 1000x600 with 1 Axes>"
      ]
     },
     "metadata": {},
     "output_type": "display_data"
    },
    {
     "data": {
      "image/png": "[encoded data removed]",
      "text/plain": [
       "<Figure size 1000x600 with 1 Axes>"
      ]
     },
     "metadata": {},
     "output_type": "display_data"
    },
    {
     "data": {
      "image/png": "[encoded data removed]",
      "text/plain": [
       "<Figure size 1000x600 with 1 Axes>"
      ]
     },
     "metadata": {},
     "output_type": "display_data"
    }
   ],
   "source": [
    "# Plot the most common words for each topic\n",
    "for topic, counter in word_counts.items():\n",
    "    common_words = counter.most_common(10)\n",
    "    words, counts = zip(*common_words)  # Separate words and counts for plotting\n",
    "    plt.figure(figsize=(10, 6))\n",
    "    plt.barh(words, counts, color='skyblue')\n",
    "    plt.xlabel('Frequency')\n",
    "    plt.title(f'Top 10 Words for Topic: {topic}')\n",
    "    plt.gca().invert_yaxis()  # Invert y-axis for better readability\n",
    "    plt.show()"
   ]
  },
  {
   "cell_type": "code",
   "execution_count": null,
   "id": "3946cb9d-3fef-462f-883d-e4fae81ce316",
   "metadata": {},
   "outputs": [],
   "source": []
  },
  {
   "cell_type": "code",
   "execution_count": null,
   "id": "cefd3226-ee89-42ae-be50-75ea1b5a3917",
   "metadata": {},
   "outputs": [],
   "source": []
  },
  {
   "cell_type": "markdown",
   "id": "d36dfe75-a23e-4a9e-b4e7-2f27cf8bc2f9",
   "metadata": {},
   "source": [
    "### Boilerplate analysis "
   ]
  },
  {
   "cell_type": "markdown",
   "id": "67dc9d27-1ef2-4ac3-9234-5286f082c609",
   "metadata": {},
   "source": [
    "We inspect the documents to tdentify phrases or sentences that appear frequently across multiple documents without giving any additional and relevant value to the document. (Ex: Share on Instagram)\n",
    "We use sentences based tokenization for this task."
   ]
  },
  {
   "cell_type": "code",
   "execution_count": 44,
   "id": "a72a076a-5268-4281-89f9-9d7ecc5a0bd1",
   "metadata": {},
   "outputs": [
    {
     "name": "stdout",
     "output_type": "stream",
     "text": [
      "Potential boilerplate sentences:\n",
      "\n",
      "the russian military offensive on ukrainian territory, launched on february 24, 2022, plunged europe into what is considered the most serious security crisis since the second world war (1939-1945).: 2 times\n",
      "ukraine has been relying on financial and arms aid from the western allies, who have also enacted sanctions against key sectors of the russian economy in an attempt to reduce moscow's ability to finance the war effort.: 4 times\n",
      "russia restricts civilian access to villages in border region bombed by ukraine\n",
      "\n",
      "access to 14 villages in the belgorod region of southern russia, on the border with ukraine, will be closed to most civilians, governor vyacheslav gladkov said on tuesday, citing the \"extremely difficult\" situation due to ukrainian shelling.: 2 times\n",
      "announcing the new restrictions in a video posted on his telegram channel, gladkov said that from next week, only adult men accompanying military or government officials will be allowed to enter the sites.: 2 times\n",
      "the men must travel in armored vehicles and wear bulletproof vests and helmets, he added.: 2 times\n",
      "\"i hope you will agree that it is unacceptable to allow women and children into settlements that are bombed every day,\" gladkov said.: 2 times\n",
      "\"we have already lost many civilians, we have many wounded.: 2 times\n",
      "and, of course, our task is to maximize security measures.\": 2 times\n",
      "the belgorod region is under frequent fire from ukrainian shelling and drones.: 2 times\n",
      "air raid sirens sound almost daily in the regional capital of the same name, just 40 km north of the border.: 2 times\n",
      "ukraine says that russian shelling of ukrainian cities has been devastating and, after almost two and a half years of war, russian forces are now in control of around a fifth of ukraine.: 2 times\n",
      "russian president vladimir putin said in may that russian forces are working to create a buffer zone in north-eastern ukraine to protect russia from attacks launched by kiev forces from across the border.: 2 times\n",
      "gladkov's announcement is a sign that the security situation in the region may have become more serious, prompting the authorities to do more to protect the civilian population.: 2 times\n",
      "more than 200 civilians have been killed in the belgorod region since the start of what moscow calls its \"special military operation\" in ukraine in february 2022, gladkov told state news agency tass on tuesday.: 2 times\n",
      "more than 1,100 have been injured.: 2 times\n",
      "former russian president says ukraine's nato membership would mean \"war\"\n",
      "\n",
      "former russian president dmitry medvedev said that ukraine joining nato would be a declaration of war against moscow and that only \"prudence\" on behalf of the alliance could prevent the planet from being torn apart.: 2 times\n",
      "the leaders of the north atlantic treaty organization pledged at their summit last week to support ukraine on an \"irreversible path towards full euro-atlantic integration, including nato membership\", but left open when this might happen.: 2 times\n",
      "medvedev, deputy chairman of russia's security council and a leading voice among kremlin hawks, told the media outlet argumenty i fakty that ukraine's membership would go beyond a direct threat to moscow's security.: 2 times\n",
      "\"this, in essence, would be a declaration of war - albeit a belated one,\" he said in comments published on wednesday.: 2 times\n",
      "\"the actions that russia's opponents have been taking against us for years, expanding the alliance, bring nato to a point of no return.\": 2 times\n",
      "in a standard kremlin line since moscow's full-scale invasion of ukraine in 2022, medvedev said that russia did not threaten nato, but would respond to the alliance's attempts to promote its interests.: 2 times\n",
      "\"the more such attempts there are, the tougher our responses will become,\" medvedev said.: 2 times\n",
      "\"whether this will tear the whole planet apart depends solely on the prudence of the (nato) side.\": 2 times\n",
      "moscow accuses kyiv of wanting to open black sea to nato\n",
      "\n",
      "ukrainian president volodymyr zelensky signed a decree on wednesday on the new maritime security strategy, which envisages \"changes and innovations\", especially in the black sea, and which is accompanied by a strategy with international partners.: 2 times\n",
      "kremlin spokesman dmitri peskov, commenting on the ukrainian initiative, warned that moscow would take measures to guarantee the country's security due to the \"additional threats\" posed by the presence of nato ships in the area.: 2 times\n",
      "\"the concentrated presence of nato ships - and we take into account bulgaria and romania, which are nato littoral states - poses additional threats to russia, especially in the current situation,\" he said.: 2 times\n",
      "peskov referred in particular to the \"direct involvement of nato countries in the conflict around ukraine\", according to the spanish news agency efe.: 2 times\n",
      "\"it is clear that russia will take all necessary measures to ensure its own security,\" he said.: 2 times\n",
      "peskov also recalled that \"the presence of non-black sea states\" in those waters \"is very strictly regulated by the montreux convention\".: 2 times\n",
      "\"turkey is, in this case, the administrator and carries out its duties very clearly,\" he added, quoted by the spanish news agency europa press.: 2 times\n",
      "dating back to 1936, the montreux convention gives turkey control of the bosphorus and dardanelles straits, which connect the black and mediterranean seas.: 2 times\n",
      "merchant ships enjoy freedom of passage, but warships are subject to restrictions \"which vary depending on whether or not they belong to the states bordering the black sea\", according to the turkish government.: 2 times\n",
      "crimea's representative in the russian parliament, mikhail sheremet, also accused zelensky today of wanting to prolong the conflict with russia, according to russian news agency tass.: 2 times\n",
      "sheremet said that kiev's new maritime security strategy is aimed at building up ukrainian naval forces and ensuring the presence of north atlantic treaty organization forces in the black sea.: 2 times\n",
      "according to the crimean mp, if ukraine's military pressure weakens, zelensky will no longer be needed by the west and nato countries will stop supporting him as ukrainian leader.: 2 times\n",
      "russia annexed the ukrainian peninsula of crimea in 2014 and, since the february 2022 invasion, has added the ukrainian regions of donetsk, lugansk, kherson and zaporijia to the list.: 2 times\n",
      "russia admits to moving missiles if us puts long-range missiles in germany\n",
      "\n",
      "\"i don't rule out any options,\" said russian deputy foreign minister serguei riabkov, when asked about the possibility of deploying nuclear missiles if the united states of america (usa) confirms its decision, adding that such actions imply \"the definitive end of arms control agreements in that zone\".: 2 times\n",
      "\"in this situation, taking into account the combined capabilities of the countries that are members of nato, we must evaluate our responses, without any internal limitations in terms of what, where and when [missiles] should or should not be deployed.: 2 times\n",
      "this means that the options should be as broad as possible,\" he said, quoted by the russian news agency interfax.: 2 times\n",
      "in this sense, the deputy minister said that russia's position \"is not a threat to anyone, it is just looking for the most effective process, also in terms of costs, to respond to changing challenges\".: 2 times\n",
      "riabkov also assured that the russian authorities will guarantee the security of the russian enclave of kaliningrad (a russian enclave in the baltic bordering lithuania and poland, two eu and nato countries), which \"has long attracted the attention of adversaries\".: 2 times\n",
      "\"if the representatives of the german government consider it justified to initiate measures for escalation under the pretext of the situation in the region, we will respond with compensatory measures in the way we consider most acceptable,\" he stressed.: 2 times\n",
      "\"nothing will stop us when it comes to solving the problems for our security along the entire perimeter of russia's borders,\" he said.: 2 times\n",
      "last week, riabkov said that \"the nature of russia's reaction\" - should the us decide on such a measure, which would imply the first us shipment of this weaponry to germany since the end of the cold war - \"will be decided calmly and professionally\".: 2 times\n",
      "the announcement by the united states and germany indicates, according to the spanish news agency europa press, that the deployment of the long-range missiles is intended to demonstrate washington's \"commitment\" to nato and a contribution to \"integrated european deterrence\", specifying that \"these conventional long-range units will include sm-6 (missiles), tomahawk and state-of-the-art hypersonic weapons, with a significantly greater radius compared to current ground-based materials in europe\".: 2 times\n",
      "at the same time, the united states and four european countries - the netherlands, germany, italy and romania - announced on wednesday that they would be sending anti-aircraft defense systems to ukraine following the latest wave of russian attacks that left 40 dead and 170 wounded, as part of the military invasion ordered in february 2022 by president vladimir putin.: 2 times\n",
      "russia ready to negotiate with zelensky but questions legitimacy\n",
      "\n",
      "\"this is a difficult issue.: 2 times\n",
      "from a legal point of view, it's a problem, but from a practical point of view, we are open to achieving our goals through negotiations.: 2 times\n",
      "therefore, several variants are possible,\" said the presidential spokesman.: 3 times\n",
      "zelensky's legitimacy at the head of ukraine's presidency has been a question raised by russia, which argues that the ukrainian ruler's term ended on may 20.\n",
      "\n",
      "the russian spokesman said that in addition to the \"problems of zelensky's legitimacy\", there is also \"the problem of the ban on establishing any contact or negotiations with the russian side, as this ban remains in force\".: 2 times\n",
      "\"so there is still a lot to clarify and we need to hear some explanations,\" peskov said.: 2 times\n",
      "following zelensky's recent statements about his readiness to negotiate a peaceful solution to the war in ukraine, the russian presidential spokesman stressed that \"russia is generally open to the process of negotiations, but it is necessary to understand to what extent the ukrainian side is prepared.\": 2 times\n",
      "\"for now, as you can see, we have heard very different statements, so far things are not very clear,\" he added.: 2 times\n",
      "on wednesday, peskov recalled that russian president vladimir putin had stated that \"zelensky lost his legitimacy\" after the end of his term, which \"is a factor that can considerably hinder the peace process.\": 2 times\n",
      "the spokesman also stressed that russia will guarantee the defense of its interests and security in any case, whether through negotiations or arms.: 2 times\n",
      "\"the special military operation was initiated as an extreme resort to achieve our goals,\" peskov said, stressing that \"any war ends with peace negotiations.\": 2 times\n",
      "in recent days, zelensky has reinforced the need for negotiations to end the war as soon as possible.: 2 times\n",
      "the ukrainian president has recently had contacts with political representatives in favor of an immediate ceasefire, such as hungarian prime minister viktor orbán, republican us presidential candidate donald trump and vatican secretary of state pietro parolin.: 3 times\n",
      "ukrainian foreign minister dmytro kuleba traveled to china this week to discuss potential peace talks between ukraine and russia.: 2 times\n",
      "ukraine has relied on financial and arms aid from western allies since russia invaded the country on february 24, 2022.\n",
      "\n",
      "kiev's allies have also enacted sanctions against key sectors of the russian economy to try to curb moscow's ability to finance the war effort in ukraine.: 2 times\n",
      "more than 200 civilians killed in russia's belgorod region since invasion\n",
      "\n",
      "\"more than 1,100 peaceful residents have been injured and more than 200 people have been killed,\" viacheslav gladkov told the russian news agency tass about the casualties caused by ukrainian drone and artillery attacks on the region.: 2 times\n",
      "the belgorod region shares 540 kilometers of border with ukraine and is the entity in the russian federation most affected by ukrainian military actions.: 2 times\n",
      "according to data provided by the local authorities last april, since the beginning of the war more than 120 civilians have been killed in the region as a result of ukrainian attacks.: 2 times\n",
      "in recent weeks there has been an upsurge in attacks on this russian region, which from west to south borders the ukrainian provinces of sumi, kharkiv and lugansk, the latter annexed by russia in september 2022.\n",
      "\n",
      "the russian military offensive on ukrainian territory, launched on february 24, 2022, plunged europe into what is considered the most serious security crisis since the second world war (1939-1945).: 2 times\n",
      "the last few months have been marked by large-scale russian air strikes against ukrainian cities and infrastructure, while kiev's forces have been targeting targets on russian territory close to the border and on the crimean peninsula, illegally annexed in 2014.\n",
      "\n",
      "now in the third year of the war, the ukrainian armed forces are facing a shortage of soldiers, weapons and ammunition, despite repeated promises of help from western allies, which have since begun to materialize.: 2 times\n",
      "it will be recalled that in an interview with the bbc, zelensky said that talks with the russian side were possible, despite the decree in force in ukraine prohibiting such talks.: 2 times\n",
      "\"by putting pressure on russia, i believe it is possible to reach a diplomatic agreement.: 2 times\n",
      "i think the power of diplomacy can help,\" said the ukrainian president.: 2 times\n",
      "on july 15, zelensky also said that russian representatives should take part in an upcoming peace conference in ukraine.: 2 times\n",
      "\"now it's reality, reality in our sky.: 2 times\n",
      "the f-16s are in ukraine,\" he said.: 2 times\n",
      "since the start of the russian invasion in february 2022, kiev has been begging for the delivery of f-16s in the hope of ending russian dominance in the air and better protecting its cities and military from incessant bombardment by moscow's forces.: 2 times\n",
      "made in the united states, the planes are considered the crown jewel in the extensive list of military equipment that ukraine has requested from allies in an attempt to repel the advance of russian forces on its soil.: 2 times\n",
      "the ukrainian president did not reveal the number of aircraft received by kiev, merely saying that it is \"insufficient\", as well as the number of ukrainian pilots trained in the west to fly them.: 2 times\n",
      "the delivery date and the country supplying this first batch were also not revealed.: 2 times\n",
      "afp journalists saw at least two f-16s flying over the site during the ceremony.: 2 times\n"
     ]
    }
   ],
   "source": [
    "from collections import Counter\n",
    "from nltk.tokenize import sent_tokenize\n",
    "\n",
    "# Initialize a Counter to track sentence frequencies across all documents\n",
    "sentence_freq = Counter()\n",
    "\n",
    "# Process each document to count sentence frequencies\n",
    "for content in documents.values():\n",
    "    sentences = sent_tokenize(content.lower())  # Tokenize into sentences\n",
    "    sentence_freq.update(sentences)\n",
    "\n",
    "# Display sentences that appear more than once (potential boilerplate)\n",
    "boilerplate_candidates = {sentence: freq for sentence, freq in sentence_freq.items() if freq > 1}\n",
    "print(\"Potential boilerplate sentences:\\n\")\n",
    "for sentence, freq in boilerplate_candidates.items():\n",
    "    print(f\"{sentence}: {freq} times\")\n"
   ]
  },
  {
   "cell_type": "markdown",
   "id": "b210af90-47fc-4fe1-aad3-d64198fc44e7",
   "metadata": {},
   "source": [
    "The documents don't posses Boilerplates sentences."
   ]
  },
  {
   "cell_type": "code",
   "execution_count": null,
   "id": "6f10c715-0733-47ef-a5a6-818ba2d06e90",
   "metadata": {},
   "outputs": [],
   "source": []
  },
  {
   "cell_type": "code",
   "execution_count": null,
   "id": "6cd8bd64-c034-48c2-b9de-4f407f6b47bf",
   "metadata": {},
   "outputs": [],
   "source": []
  },
  {
   "cell_type": "markdown",
   "id": "0d32114f-9cc4-43e6-88a6-91fc361d5faf",
   "metadata": {},
   "source": [
    "## Text normalization and lemmatization"
   ]
  },
  {
   "cell_type": "markdown",
   "id": "902d7e98-5413-478b-9029-b96c5cbfa592",
   "metadata": {},
   "source": [
    "Normalization"
   ]
  },
  {
   "cell_type": "code",
   "execution_count": 46,
   "id": "09082161-d621-45f7-8d15-d1e135a9a3eb",
   "metadata": {},
   "outputs": [
    {
     "name": "stdout",
     "output_type": "stream",
     "text": [
      "Normalized words in PT_CC_53.txt: ['scientists', 'deny', 'climate', 'emergency', 'already', 'scientists', 'including', 'several', 'nobel', 'laureates', 'signed', 'declaration', 'entitled', 'climate', 'emergency', 'text', 'promoted', 'climate', 'intelligence', 'foundation']\n"
     ]
    }
   ],
   "source": [
    "\n",
    "# Define stopwords\n",
    "stop_words = set(stopwords.words('english'))\n",
    "additional_stopwords = {} # If necessary in the futture to add other stopwords\n",
    "all_stopwords = stop_words.union(additional_stopwords)\n",
    "\n",
    "# Function to normalize text\n",
    "def normalize_text(text):\n",
    "    # Lowercase\n",
    "    text = text.lower()\n",
    "    # Tokenize\n",
    "    tokens = word_tokenize(text)\n",
    "    # Remove punctuation, numbers, and stopwords\n",
    "    normalized_tokens = [\n",
    "        word for word in tokens \n",
    "        if word.isalpha() and word not in all_stopwords\n",
    "    ]\n",
    "    return normalized_tokens\n",
    "\n",
    "# Apply normalization to each document in the dataset\n",
    "normalized_documents = {filename: normalize_text(content) for filename, content in documents.items()}\n",
    "\n",
    "# Check normalized output for a sample document\n",
    "for filename, words in normalized_documents.items():\n",
    "    print(f\"Normalized words in {filename}:\", words[:20])  # View first 20 normalized words\n",
    "    break"
   ]
  },
  {
   "cell_type": "code",
   "execution_count": null,
   "id": "3e6c4283-7194-4365-82a3-4e9910ba6e5b",
   "metadata": {},
   "outputs": [],
   "source": []
  },
  {
   "cell_type": "code",
   "execution_count": null,
   "id": "ecf904c0-a53f-46dc-b131-2f526997be85",
   "metadata": {},
   "outputs": [],
   "source": []
  },
  {
   "cell_type": "markdown",
   "id": "84cc34c7-80df-4de1-9b5b-77d10e1c73dd",
   "metadata": {},
   "source": [
    "Lemmatization"
   ]
  },
  {
   "cell_type": "raw",
   "id": "236298e3-d239-43e4-8fc9-b97af96fbee0",
   "metadata": {},
   "source": [
    "# Initialize the Stanza pipeline for English with lemmatization\n",
    "stanza.download('en') \n",
    "nlp = stanza.Pipeline('en', processors='tokenize,lemma')"
   ]
  },
  {
   "cell_type": "raw",
   "id": "bfcec7a8-5d00-4ee2-9b02-b37d0a5c72be",
   "metadata": {},
   "source": [
    "\n",
    "# Function to lemmatize text\n",
    "def lemmatize_text(text):\n",
    "    doc = nlp(text)\n",
    "    lemmatized_text = \" \".join([word.lemma for sentence in doc.sentences for word in sentence.words])\n",
    "    return lemmatized_text\n",
    "\n",
    "# Apply lemmatization to each document\n",
    "lemmatized_documents = {filename: lemmatize_text(content) for filename, content in documents.items()}\n",
    "\n",
    "# Display an example\n",
    "for filename, lemmatized_content in lemmatized_documents.items():\n",
    "    print(f\"Lemmatized content of {filename}:\\n{lemmatized_content[:200]}...\\n\")\n",
    "    break  # Print only the first document as an example\n"
   ]
  },
  {
   "cell_type": "code",
   "execution_count": 28,
   "id": "91fafdd9-ce41-468e-81c2-b8c5f6afe054",
   "metadata": {},
   "outputs": [
    {
     "name": "stdout",
     "output_type": "stream",
     "text": [
      "Lemmatized words in PT_CC_53.txt: ['scientist', 'deny', 'climate', 'emergency', 'already', 'scientist', 'including', 'several', 'nobel', 'laureate', 'signed', 'declaration', 'entitled', 'climate', 'emergency', 'text', 'promoted', 'climate', 'intelligence', 'foundation', 'clintel', 'climate', 'science', 'less', 'political', 'climate', 'policy', 'scientific', 'text', 'state', 'climate', 'emergency', 'therefore', 'reason', 'panic', 'alarm', 'strongly', 'oppose', 'damaging', 'unrealistic', 'net', 'zero', 'policy', 'proposed', 'bet', 'adaptation', 'instead', 'mitigation', 'adaptation', 'work', 'regardless', 'cause', 'said', 'group', 'scientist', 'argue', 'gas', 'essential', 'planet', 'also', 'argue', 'earth', 'climate', 'varied', 'long', 'planet', 'existed', 'planet', 'gone', 'several', 'cold', 'hot', 'phase', 'two', 'nobel', 'prize', 'winner', 'american', 'physicist', 'ivar', 'giaever', 'john', 'clauser', 'nobel', 'prize', 'winner', 'respectively', 'joined', 'declaration', 'climate', 'change', 'crisis', 'said', 'popular', 'narrative', 'climate', 'change', 'reflects', 'dangerous', 'corruption', 'science', 'threatens', 'global', 'economy', 'billion', 'people', 'spaniard', 'among', 'signatory', 'majorcan', 'luis', 'pomar', 'geologist', 'professor', 'emeritus', 'university', 'balearic', 'island', 'list', 'scientist', 'reject', 'climate', 'change', 'spaniard', 'first', 'win', 'sorby', 'medal', 'international', 'sedimentology', 'association', 'point', 'declaration', 'text', 'entitled', 'climate', 'emergency', 'includes', 'following', 'point', 'geological', 'record', 'reveals', 'earth', 'climate', 'varied', 'long', 'planet', 'existed', 'natural', 'cold', 'warm', 'phase', 'little', 'ice', 'age', 'ended', 'therefore', 'surprising', 'experiencing', 'warming', 'period', 'world', 'warmed', 'significantly', 'less', 'predicted', 'ipcc', 'based', 'modeled', 'anthropogenic', 'effect', 'gap', 'real', 'world', 'modeled', 'world', 'tell', 'u', 'far', 'understanding', 'climate', 'change', 'climate', 'model', 'many', 'flaw', 'plausible', 'global', 'policy', 'tool', 'exaggerate', 'effect', 'greenhouse', 'gas', 'furthermore', 'ignore', 'fact', 'enriching', 'atmosphere', 'beneficial', 'pollutant', 'essential', 'life', 'earth', 'photosynthesis', 'blessing', 'beneficial', 'nature', 'make', 'earth', 'greener', 'extra', 'air', 'promoted', 'growth', 'world', 'plant', 'biomass', 'also', 'good', 'agriculture', 'increase', 'productivity', 'crop', 'around', 'world', 'statistical', 'evidence', 'global', 'warming', 'intensifying', 'hurricane', 'flood', 'drought', 'similar', 'natural', 'disaster', 'making', 'frequent', 'however', 'ample', 'evidence', 'mitigation', 'measure', 'harmful', 'costly', 'climate', 'emergency', 'therefore', 'cause', 'panic', 'alarm', 'strongly', 'oppose', 'damaging', 'unrealistic', 'net', 'zero', 'emission', 'policy', 'proposed', 'better', 'approach', 'emerge', 'undoubtedly', 'plenty', 'time', 'reflect', 'readapt', 'goal', 'global', 'policy', 'must', 'prosperity', 'provision', 'reliable', 'affordable', 'energy', 'time', 'prosperous', 'society', 'men', 'woman', 'well', 'educated', 'birth', 'rate', 'low', 'people', 'care', 'environment']\n"
     ]
    }
   ],
   "source": [
    "# Initialize lemmatizer\n",
    "lemmatizer = WordNetLemmatizer()\n",
    "\n",
    "# Apply lemmatization to normalized tokens\n",
    "lemmatized_documents = {filename: [lemmatizer.lemmatize(word) for word in words] for filename, words in normalized_documents.items()}\n",
    "\n",
    "# Check output for a sample document\n",
    "for filename, words in lemmatized_documents.items():\n",
    "    print(f\"Lemmatized words in {filename}:\", words)  # View first 20 lemmatized words\n",
    "    break"
   ]
  },
  {
   "cell_type": "code",
   "execution_count": null,
   "id": "6ce23bc8-fc55-4b2f-a6fc-a402fec25be5",
   "metadata": {},
   "outputs": [],
   "source": []
  },
  {
   "cell_type": "markdown",
   "id": "eb8a497e-99a0-49fb-9fc7-6e1db5be46b2",
   "metadata": {},
   "source": [
    "Check another document"
   ]
  },
  {
   "cell_type": "code",
   "execution_count": 32,
   "id": "e1f6d58b-8786-4ffa-b740-d7fe21048ce3",
   "metadata": {},
   "outputs": [
    {
     "name": "stdout",
     "output_type": "stream",
     "text": [
      "Lemmatized words in PT_Unknown_164.txt: ['portugal', 'must', 'demand', 'release', 'captain', 'paul', 'watson', 'whale', 'protector', 'captain', 'paul', 'watson', 'tirelessly', 'traveling', 'world', 'sea', 'decade', 'defend', 'whale', 'founder', 'sea', 'shepherd', 'nothing', 'enforce', 'law', 'since', 'whale', 'supposed', 'protected', 'international', 'law', 'whaling', 'officially', 'banned', 'since', 'moratorium', 'adopted', 'international', 'whaling', 'commission', 'iwc', 'came', 'force', 'aim', 'organization', 'defend', 'life', 'sea', 'unique', 'strategy', 'aggressive', 'intervention', 'illegal', 'operation', 'exploit', 'life', 'sea', 'date', 'helped', 'save', 'cetacean', 'currently', 'three', 'country', 'determined', 'comply', 'moratorium', 'iceland', 'norway', 'japan', 'japan', 'already', 'condemned', 'international', 'court', 'justice', 'whaling', 'activity', 'later', 'concealed', 'false', 'claim', 'scientific', 'research', 'famous', 'captain', 'subject', 'international', 'arrest', 'warrant', 'issued', 'tokyo', 'conspiracy', 'commit', 'collision', 'arrested', 'july', 'danish', 'authority', 'boat', 'making', 'discreet', 'stopover', 'greenland', 'since', 'international', 'public', 'opinion', 'mobilized', 'demand', 'paul', 'watson', 'release', 'notably', 'petition', 'launched', 'journalist', 'hugo', 'clément', 'signature', 'french', 'president', 'emmanuel', 'macron', 'already', 'intervened', 'danish', 'authority', 'try', 'prevent', 'extradition', 'japan', 'whaling', 'well', 'persecution', 'activist', 'protect', 'whale', 'increasingly', 'incomprehensible', 'since', 'dealing', 'activity', 'illegal', 'also', 'go', 'far', 'beyond', 'protection', 'specie', 'today', 'know', 'whale', 'play', 'fundamental', 'role', 'mitigating', 'climate', 'change', 'scientist', 'recently', 'discovered', 'whale', 'capture', 'significant', 'amount', 'carbon', 'atmosphere', 'estimate', 'indicate', 'capacity', 'one', 'whale', 'capture', 'carbon', 'atmosphere', 'equal', 'thousand', 'tree', 'international', 'monetary', 'fund', 'published', 'study', 'value', 'service', 'provided', 'whale', 'includes', 'capturing', 'carbon', 'dioxide', 'million', 'dollar', 'easily', 'billion', 'dollar', 'current', 'population', 'large', 'whale', 'whale', 'essential', 'part', 'solution', 'climate', 'crisis', 'carbon', 'dioxide', 'capture', 'around', 'time', 'efficient', 'marine', 'environment', 'whale', 'play', 'key', 'role', 'reason', 'undersigned', 'call', 'portuguese', 'government', 'join', 'government', 'already', 'taken', 'cause', 'taking', 'necessary', 'step', 'ensure', 'danish', 'government', 'extradite', 'captain', 'paul', 'watson', 'also', 'calling', 'japanese', 'authority', 'comply', 'international', 'law']\n"
     ]
    }
   ],
   "source": [
    "\n",
    "target_filename = \"PT_Unknown_164.txt\"  \n",
    "\n",
    "# Check output for the specified document\n",
    "for filename, words in lemmatized_documents.items():\n",
    "    if filename == target_filename:\n",
    "        print(f\"Lemmatized words in {filename}:\", words)  # Print the words in the specified document\n",
    "        break"
   ]
  },
  {
   "cell_type": "code",
   "execution_count": null,
   "id": "c4b82547-3365-4254-8bfe-10d2dfd48746",
   "metadata": {},
   "outputs": [],
   "source": []
  }
 ],
 "metadata": {
  "kernelspec": {
   "display_name": "myenv",
   "language": "python",
   "name": "myenv"
  },
  "language_info": {
   "codemirror_mode": {
    "name": "ipython",
    "version": 3
   },
   "file_extension": ".py",
   "mimetype": "text/x-python",
   "name": "python",
   "nbconvert_exporter": "python",
   "pygments_lexer": "ipython3",
   "version": "3.11.10"
  }
 },
 "nbformat": 4,
 "nbformat_minor": 5
}
